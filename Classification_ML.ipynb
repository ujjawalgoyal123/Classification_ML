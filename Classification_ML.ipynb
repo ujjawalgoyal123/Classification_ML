{
  "cells": [
    {
      "cell_type": "markdown",
      "metadata": {
        "id": "BKCrcukdE8Bb"
      },
      "source": [
        "# Assignment: Classification\n",
        "\n",
        "Classification refers to categorizing the given data into classes. For example,\n",
        "- Given an image of hand-written character, identifying the character (multi-class classification)\n",
        "- Given an image, annotating it with all the objects present in the image (multi-label classification)\n",
        "- Classifying an email as spam or non-spam (binary classification)\n",
        "- Classifying a tumor as benign or malignant and so on\n",
        "\n",
        "In this assignment, we will be building a classifier to classify emails as spam or non-spam. We will be using the Kaggle dataset [Spam or Not Spam Dataset](https://www.kaggle.com/datasets/ozlerhakan/spam-or-not-spam-dataset?resource=download) for this task. \n",
        "\n",
        "**Note**: You cannot load any libraries other than the mentioned ones.\n",
        "\n",
        "\n"
      ]
    },
    {
      "cell_type": "markdown",
      "metadata": {
        "id": "Irp6f7_2crfu"
      },
      "source": [
        "### Data pre-processing\n",
        "The first step in every machine learning algorithm is to process the raw data in some meaningful representations. We will be using the [Bag-of-Words](https://towardsdatascience.com/a-simple-explanation-of-the-bag-of-words-model-b88fc4f4971) representation to process the text. It comprises of following steps:\n",
        "\n",
        "- Process emails line-by-line to extract all the words.\n",
        "- Replace extracted words by their stem (root) word. This is known as stemming and lematization.\n",
        "- Remove stop words like and, or, is, am, and so on.\n",
        "- Assign a unique index to each word. This forms the vocabulary.\n",
        "- Represent each email as a binary vector of length equal to the size of the vocabulary such that the $i^{th}$ element of the vector is 1 iff the $i^th$ word is present in the email.\n",
        "\n",
        "Here we provide you with the function signature along with the expected functionality. You are expected to complete them accordingly. "
      ]
    },
    {
      "cell_type": "code",
      "execution_count": 2,
      "metadata": {
        "id": "wIlTOyyPn-mN"
      },
      "outputs": [
        {
          "name": "stderr",
          "output_type": "stream",
          "text": [
            "[nltk_data] Downloading package stopwords to\n",
            "[nltk_data]     C:\\Users\\goyal\\AppData\\Roaming\\nltk_data...\n",
            "[nltk_data]   Package stopwords is already up-to-date!\n"
          ]
        }
      ],
      "source": [
        "\n",
        "import numpy as np\n",
        "from nltk.stem import PorterStemmer\n",
        "from nltk.corpus import stopwords\n",
        "import nltk\n",
        "nltk.download('stopwords')\n",
        "\n",
        "\n",
        "# takes an email as an argument\n",
        "# read email line-by-line and extract all the words\n",
        "# return list of extracted words\n",
        "def read_email(email):\n",
        "  email = email.lower()\n",
        "  words = []\n",
        "  for word in email.split():\n",
        "    words.append(word)\n",
        "  return words\n",
        "\n",
        "# takes a list of words as an argument\n",
        "# replace each word by their stem word\n",
        "# return list of stem words\n",
        "def stemming(list):\n",
        "  ps = PorterStemmer()\n",
        "  text = list[:]\n",
        "  list.clear()\n",
        "  \n",
        "  for i in text:\n",
        "    list.append(ps.stem(i))\n",
        "  \n",
        "  # return \" \".join(list)\n",
        "  return list\n",
        "\n",
        "# takes a list of stem-words as an argument\n",
        "# remove stop words\n",
        "# return list of stem words after removing stop words\n",
        "def remove_stop_words(stem_words):\n",
        "  text = stem_words[:]\n",
        "  stem_words.clear()\n",
        "  \n",
        "  for i in text:\n",
        "    if i not in stopwords.words('english'):\n",
        "      stem_words.append(i)\n",
        "  return stem_words\n",
        "\n",
        "# takes a list of stem-words as an argument\n",
        "# add new words to the vocabulary and assign a unique index to them\n",
        "# returns new vocabulary\n",
        "def build_vocabulary(stemwords):\n",
        "  vocab = {}\n",
        "  k=0\n",
        "  for i in stemwords:\n",
        "    if i not in vocab:\n",
        "      vocab[i] = k\n",
        "      k=k+1\n",
        "  return vocab\n",
        "\n",
        "# takes a list of stem-words and vocabulary as an argument\n",
        "# returns bow representation\n",
        "def get_bow(stemwords, vocab):\n",
        "  bow = [0]*len(vocab)\n",
        "  for word in stemwords:\n",
        "    bow[vocab[word]] = 1\n",
        "  return bow\n",
        "\n",
        "# read the entire dataset\n",
        "# convert emails to bow and maintain their labels\n",
        "# call function text_to_bow()\n",
        "def read_data():\n",
        "  file = open(\"spam_or_not_spam.csv\", encoding = \"utf-8\")\n",
        "  data = np.loadtxt(file, delimiter = \",\",dtype=\"str\", skiprows = 1)\n",
        "  return data\n",
        "data = read_data()\n",
        "k=0\n",
        "vocab = {}\n",
        "data2 = []\n",
        "for i in range(len(data)):\n",
        "  words = read_email(data[i][0])\n",
        "  words = stemming(words)\n",
        "  data2.append([remove_stop_words(words), data[i][1]])\n",
        "  for j in data2[i][0]:\n",
        "    if j not in vocab:\n",
        "      vocab[j] = k\n",
        "      k=k+1\n",
        "#print(vocab)\n",
        "\n",
        "for i in range(len(data2)):\n",
        "  #print(data2[i][0])\n",
        "  data2[i][0] = get_bow(data2[i][0], vocab)\n"
      ]
    },
    {
      "cell_type": "markdown",
      "metadata": {
        "id": "d0cDiGt6nkPY"
      },
      "source": [
        "### Data Visualization\n",
        "Let's understand the data distribution\n",
        "- Visualize the frequency of word-occurence in all the emails(spam + non-spam)\n",
        "- Visualize the freuency of word-occurence for spam and non-spam emails separately"
      ]
    },
    {
      "cell_type": "code",
      "execution_count": 3,
      "metadata": {
        "id": "4vJLcTxDLZsh"
      },
      "outputs": [
        {
          "data": {
            "image/png": "[encoded data removed]",
            "text/plain": [
              "<Figure size 432x288 with 1 Axes>"
            ]
          },
          "metadata": {
            "needs_background": "light"
          },
          "output_type": "display_data"
        },
        {
          "data": {
            "image/png": "[encoded data removed]",
            "text/plain": [
              "<Figure size 432x288 with 1 Axes>"
            ]
          },
          "metadata": {
            "needs_background": "light"
          },
          "output_type": "display_data"
        },
        {
          "data": {
            "image/png": "[encoded data removed]",
            "text/plain": [
              "<Figure size 432x288 with 1 Axes>"
            ]
          },
          "metadata": {
            "needs_background": "light"
          },
          "output_type": "display_data"
        }
      ],
      "source": [
        "import matplotlib.pyplot as plt\n",
        "\n",
        "z = len(vocab)\n",
        "freq = [0]*z\n",
        "# visuallze data distribution of word-occourence in all the emails\n",
        "def data_vis(data2):\n",
        "    global freq\n",
        "    for i in range(len(data2)):\n",
        "        for j in range(z):\n",
        "            freq[j] = freq[j] + data2[i][0][j]\n",
        "    return freq\n",
        "x1 = []\n",
        "for i in range(z):\n",
        "    x1.append(i)\n",
        "freq = data_vis(data2) \n",
        "xpoints = x1 \n",
        "ypoints = freq\n",
        "\n",
        "plt.plot(xpoints, ypoints)\n",
        "plt.show()  \n",
        " \n",
        "# visuallze data distribution of word-occourence for spam\n",
        "freq1 = [0]*z\n",
        "def spam_vis(data2):\n",
        "    global freq1\n",
        "    for i in range(len(data2)):\n",
        "        if data2[i][1] == '1':\n",
        "            for j in range(z):\n",
        "                freq1[j] = freq1[j] + data2[i][0][j]\n",
        "            \n",
        "    return freq1\n",
        "freq1  = spam_vis(data2)\n",
        "xpoints = x1 \n",
        "ypoints = freq1\n",
        "\n",
        "plt.plot(xpoints, ypoints)\n",
        "plt.show()\n",
        "    \n",
        "\n",
        "# visuallze data distribution of word-occourence for non_spam\n",
        "freq2 = [0]*z\n",
        "def nonspam_vis(data2):\n",
        "    global freq2\n",
        "    for i in range(len(data2)):\n",
        "        if data2[i][1] == '0':\n",
        "            for j in range(z):\n",
        "                freq2[j] = freq2[j] + data2[i][0][j]\n",
        "            \n",
        "    return freq2\n",
        "freq2 = nonspam_vis(data2)\n",
        "xpoints = x1 \n",
        "ypoints = freq2\n",
        "\n",
        "plt.plot(xpoints, ypoints)\n",
        "plt.show()"
      ]
    },
    {
      "cell_type": "markdown",
      "metadata": {
        "id": "LPq-3nTzGcdX"
      },
      "source": [
        "### Learn a Classifier\n",
        "Split the dataset randomly in the ratio 80:20 as the training and test dataset. Use only training dataset to learn the classifier. No test data should be used during training. Test data will only be used during evaluation.\n",
        "\n",
        "Now let us try to use ML algorithms to classify emails as spam or non-spam. You are supposed to implement [SVM](https://scikit-learn.org/stable/modules/svm.html) and [K-Nearest Neighbour](https://scikit-learn.org/stable/modules/generated/sklearn.neighbors.KNeighborsClassifier.html) algorithm available in scikit-learn using the same training dataset for both."
      ]
    },
    {
      "cell_type": "code",
      "execution_count": 4,
      "metadata": {
        "id": "IMpuaPCKHxwh"
      },
      "outputs": [],
      "source": [
        "from sklearn.neighbors import KNeighborsClassifier\n",
        "from sklearn import svm\n",
        "import random\n",
        "# split dataset\n",
        "def split(data2):\n",
        "  train_data = []\n",
        "  test_data = []\n",
        "  random.shuffle(data2)\n",
        "  train_data = data2[:int(0.8*len(data2))]\n",
        "  test_data = data2[int(0.8*len(data2)):]\n",
        "  return train_data, test_data\n",
        "\n",
        "# learn a SVM model\n",
        "# use the model to make prediction\n",
        "# return the model predictions on train and test dataset\n",
        "def svm_classifier(train_data, test_data):\n",
        "  model_svm = svm.SVC()\n",
        "  list1 = []\n",
        "  list = []\n",
        "  list2 = []\n",
        "  list3 = []\n",
        "  for i in range(len(train_data)):\n",
        "    list1.append(train_data[i][0])\n",
        "  for i in range(len(train_data)):\n",
        "    list.append(int(train_data[i][1]))\n",
        "  for i in range(len(test_data)):\n",
        "    list2.append(test_data[i][0])\n",
        "  for i in range(len(test_data)):\n",
        "    list3.append(int(test_data[i][1]))\n",
        "  model_svm.fit(list1, list)\n",
        "  predict_train = model_svm.predict(list1)\n",
        "  predict_test = model_svm.predict(list2)\n",
        "  return predict_train,predict_test\n",
        "\n",
        "# implement k-NN algorithm\n",
        "# use the model to make prediction\n",
        "# return the model predictions on train and test dataset\n",
        "def knn_classifier(train_data, test_data):\n",
        "  model_knn = KNeighborsClassifier(n_neighbors=3)\n",
        "  list1 = []\n",
        "  list = []\n",
        "  list2 = []\n",
        "  for i in range(len(train_data)):\n",
        "    list1.append(train_data[i][0])\n",
        "  for i in range(len(train_data)):\n",
        "    list.append(int(train_data[i][1]))\n",
        "  for i in range(len(test_data)):\n",
        "    list2.append(test_data[i][0])\n",
        "  model_knn.fit(list1, list)\n",
        "  predict_train = model_knn.predict(list1)\n",
        "  predict_test = model_knn.predict(list2)\n",
        "  return predict_train,predict_test\n",
        "\n",
        "train_data, test_data = split(data2)\n",
        "svm_train_predictions, svm_test_predictions = svm_classifier(train_data, test_data)\n",
        "knn_train_predictions, knn_test_predictions = knn_classifier(train_data, test_data)"
      ]
    },
    {
      "cell_type": "markdown",
      "metadata": {
        "id": "SlCwYvluHqQz"
      },
      "source": [
        "### Model Evaluation\n",
        "Compare the SVM and k-NN model using metrics\n",
        "- Accuracy\n",
        "- [AUC score](https://scikit-learn.org/stable/modules/generated/sklearn.metrics.auc.html)\n"
      ]
    },
    {
      "cell_type": "code",
      "execution_count": 5,
      "metadata": {
        "id": "X3KmcTpqKbGI"
      },
      "outputs": [
        {
          "name": "stdout",
          "output_type": "stream",
          "text": [
            "0.995\n",
            "0.9733333333333334\n",
            "0.9245833333333333\n",
            "0.8266666666666667\n",
            "0.9846153846153847\n",
            "0.9272727272727272\n",
            "0.9363758132414849\n",
            "0.8551020408163265\n"
          ]
        }
      ],
      "source": [
        "from sklearn import metrics\n",
        "\n",
        "# compute accuracy \n",
        "list1 = []\n",
        "list = []\n",
        "list2 = []\n",
        "list3 = []\n",
        "for i in range(len(train_data)):\n",
        "  list1.append(train_data[i][0])\n",
        "for i in range(len(train_data)):\n",
        "  list.append(int(train_data[i][1]))\n",
        "for i in range(len(test_data)):\n",
        "  list2.append(test_data[i][0])\n",
        "for i in range(len(test_data)):\n",
        "  list3.append(int(test_data[i][1]))\n",
        "def compute_accuracy(true_labels, predicted_labels):\n",
        "  acc = metrics.accuracy_score(true_labels, predicted_labels)\n",
        "  return acc\n",
        "\n",
        "# compute AUC score \n",
        "def compute_auc(true_labels, predicted_labels):\n",
        "  auc = metrics.roc_auc_score(true_labels, predicted_labels)\n",
        "  return auc\n",
        "\n",
        "print(compute_accuracy(list,svm_train_predictions))\n",
        "print(compute_accuracy(list3,svm_test_predictions))\n",
        "print(compute_accuracy(list,knn_train_predictions))\n",
        "print(compute_accuracy(list3,knn_test_predictions))\n",
        "print(compute_auc(list,svm_train_predictions))\n",
        "print(compute_auc(list3,svm_test_predictions))\n",
        "print(compute_auc(list,knn_train_predictions))\n",
        "print(compute_auc(list3,knn_test_predictions))\n",
        "\n",
        "# write code to print train and test accuracy and AUC score of SVM and k-NN classifier"
      ]
    }
  ],
  "metadata": {
    "colab": {
      "collapsed_sections": [],
      "name": "python-assignment.ipynb",
      "provenance": []
    },
    "kernelspec": {
      "display_name": "Python 3",
      "name": "python3"
    },
    "language_info": {
      "codemirror_mode": {
        "name": "ipython",
        "version": 3
      },
      "file_extension": ".py",
      "mimetype": "text/x-python",
      "name": "python",
      "nbconvert_exporter": "python",
      "pygments_lexer": "ipython3",
      "version": "3.10.4"
    }
  },
  "nbformat": 4,
  "nbformat_minor": 0
}
